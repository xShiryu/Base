{
 "cells": [
  {
   "cell_type": "markdown",
   "metadata": {},
   "source": [
    "Data loading"
   ]
  },
  {
   "cell_type": "code",
   "execution_count": 16,
   "metadata": {},
   "outputs": [
    {
     "name": "stderr",
     "output_type": "stream",
     "text": [
      "C:\\Users\\admin\\AppData\\Local\\Temp\\ipykernel_2232\\1018464135.py:10: ParserWarning: Falling back to the 'python' engine because the 'c' engine does not support regex separators (separators > 1 char and different from '\\s+' are interpreted as regex); you can avoid this warning by specifying engine='python'.\n",
      "  interaction = pd.read_csv(path + '/ratings.dat', sep='::', names=column_names, usecols=['user_id', 'item_id', 'rating'])\n"
     ]
    },
    {
     "data": {
      "text/html": [
       "<div>\n",
       "<style scoped>\n",
       "    .dataframe tbody tr th:only-of-type {\n",
       "        vertical-align: middle;\n",
       "    }\n",
       "\n",
       "    .dataframe tbody tr th {\n",
       "        vertical-align: top;\n",
       "    }\n",
       "\n",
       "    .dataframe thead th {\n",
       "        text-align: right;\n",
       "    }\n",
       "</style>\n",
       "<table border=\"1\" class=\"dataframe\">\n",
       "  <thead>\n",
       "    <tr style=\"text-align: right;\">\n",
       "      <th></th>\n",
       "      <th>user_id</th>\n",
       "      <th>item_id</th>\n",
       "      <th>implicit_rating</th>\n",
       "    </tr>\n",
       "  </thead>\n",
       "  <tbody>\n",
       "    <tr>\n",
       "      <th>0</th>\n",
       "      <td>1</td>\n",
       "      <td>1193</td>\n",
       "      <td>1</td>\n",
       "    </tr>\n",
       "    <tr>\n",
       "      <th>1</th>\n",
       "      <td>1</td>\n",
       "      <td>661</td>\n",
       "      <td>1</td>\n",
       "    </tr>\n",
       "    <tr>\n",
       "      <th>2</th>\n",
       "      <td>1</td>\n",
       "      <td>914</td>\n",
       "      <td>1</td>\n",
       "    </tr>\n",
       "    <tr>\n",
       "      <th>3</th>\n",
       "      <td>1</td>\n",
       "      <td>3408</td>\n",
       "      <td>1</td>\n",
       "    </tr>\n",
       "    <tr>\n",
       "      <th>4</th>\n",
       "      <td>1</td>\n",
       "      <td>2355</td>\n",
       "      <td>1</td>\n",
       "    </tr>\n",
       "    <tr>\n",
       "      <th>...</th>\n",
       "      <td>...</td>\n",
       "      <td>...</td>\n",
       "      <td>...</td>\n",
       "    </tr>\n",
       "    <tr>\n",
       "      <th>1000204</th>\n",
       "      <td>6040</td>\n",
       "      <td>1091</td>\n",
       "      <td>0</td>\n",
       "    </tr>\n",
       "    <tr>\n",
       "      <th>1000205</th>\n",
       "      <td>6040</td>\n",
       "      <td>1094</td>\n",
       "      <td>1</td>\n",
       "    </tr>\n",
       "    <tr>\n",
       "      <th>1000206</th>\n",
       "      <td>6040</td>\n",
       "      <td>562</td>\n",
       "      <td>1</td>\n",
       "    </tr>\n",
       "    <tr>\n",
       "      <th>1000207</th>\n",
       "      <td>6040</td>\n",
       "      <td>1096</td>\n",
       "      <td>1</td>\n",
       "    </tr>\n",
       "    <tr>\n",
       "      <th>1000208</th>\n",
       "      <td>6040</td>\n",
       "      <td>1097</td>\n",
       "      <td>1</td>\n",
       "    </tr>\n",
       "  </tbody>\n",
       "</table>\n",
       "<p>1000209 rows × 3 columns</p>\n",
       "</div>"
      ],
      "text/plain": [
       "         user_id  item_id  implicit_rating\n",
       "0              1     1193                1\n",
       "1              1      661                1\n",
       "2              1      914                1\n",
       "3              1     3408                1\n",
       "4              1     2355                1\n",
       "...          ...      ...              ...\n",
       "1000204     6040     1091                0\n",
       "1000205     6040     1094                1\n",
       "1000206     6040      562                1\n",
       "1000207     6040     1096                1\n",
       "1000208     6040     1097                1\n",
       "\n",
       "[1000209 rows x 3 columns]"
      ]
     },
     "execution_count": 16,
     "metadata": {},
     "output_type": "execute_result"
    }
   ],
   "source": [
    "import pandas as pd\n",
    "import numpy as np\n",
    "from sklearn.model_selection import train_test_split\n",
    "from sklearn.preprocessing import LabelEncoder\n",
    "\n",
    "#Define column names\n",
    "column_names = ['user_id', 'item_id', 'rating']\n",
    "\n",
    "path = '../data'\n",
    "interaction = pd.read_csv(path + '/ratings.dat', sep='::', names=column_names, usecols=['user_id', 'item_id', 'rating'])\n",
    "interaction['implicit_rating'] = np.where(interaction['rating'] >= 3, 1, 0)\n",
    "interaction = interaction.drop(labels='rating', axis=1)\n",
    "interaction"
   ]
  },
  {
   "cell_type": "markdown",
   "metadata": {},
   "source": [
    "Data supplement"
   ]
  },
  {
   "cell_type": "code",
   "execution_count": 17,
   "metadata": {},
   "outputs": [
    {
     "data": {
      "text/html": [
       "<div>\n",
       "<style scoped>\n",
       "    .dataframe tbody tr th:only-of-type {\n",
       "        vertical-align: middle;\n",
       "    }\n",
       "\n",
       "    .dataframe tbody tr th {\n",
       "        vertical-align: top;\n",
       "    }\n",
       "\n",
       "    .dataframe thead th {\n",
       "        text-align: right;\n",
       "    }\n",
       "</style>\n",
       "<table border=\"1\" class=\"dataframe\">\n",
       "  <thead>\n",
       "    <tr style=\"text-align: right;\">\n",
       "      <th></th>\n",
       "      <th>user_id</th>\n",
       "      <th>item_id</th>\n",
       "      <th>implicit_rating</th>\n",
       "      <th>user_engagement</th>\n",
       "    </tr>\n",
       "  </thead>\n",
       "  <tbody>\n",
       "    <tr>\n",
       "      <th>0</th>\n",
       "      <td>1</td>\n",
       "      <td>1193</td>\n",
       "      <td>1</td>\n",
       "      <td>53</td>\n",
       "    </tr>\n",
       "    <tr>\n",
       "      <th>1</th>\n",
       "      <td>1</td>\n",
       "      <td>661</td>\n",
       "      <td>1</td>\n",
       "      <td>53</td>\n",
       "    </tr>\n",
       "    <tr>\n",
       "      <th>2</th>\n",
       "      <td>1</td>\n",
       "      <td>914</td>\n",
       "      <td>1</td>\n",
       "      <td>53</td>\n",
       "    </tr>\n",
       "    <tr>\n",
       "      <th>3</th>\n",
       "      <td>1</td>\n",
       "      <td>3408</td>\n",
       "      <td>1</td>\n",
       "      <td>53</td>\n",
       "    </tr>\n",
       "    <tr>\n",
       "      <th>4</th>\n",
       "      <td>1</td>\n",
       "      <td>2355</td>\n",
       "      <td>1</td>\n",
       "      <td>53</td>\n",
       "    </tr>\n",
       "    <tr>\n",
       "      <th>...</th>\n",
       "      <td>...</td>\n",
       "      <td>...</td>\n",
       "      <td>...</td>\n",
       "      <td>...</td>\n",
       "    </tr>\n",
       "    <tr>\n",
       "      <th>1000204</th>\n",
       "      <td>6040</td>\n",
       "      <td>1091</td>\n",
       "      <td>0</td>\n",
       "      <td>276</td>\n",
       "    </tr>\n",
       "    <tr>\n",
       "      <th>1000205</th>\n",
       "      <td>6040</td>\n",
       "      <td>1094</td>\n",
       "      <td>1</td>\n",
       "      <td>276</td>\n",
       "    </tr>\n",
       "    <tr>\n",
       "      <th>1000206</th>\n",
       "      <td>6040</td>\n",
       "      <td>562</td>\n",
       "      <td>1</td>\n",
       "      <td>276</td>\n",
       "    </tr>\n",
       "    <tr>\n",
       "      <th>1000207</th>\n",
       "      <td>6040</td>\n",
       "      <td>1096</td>\n",
       "      <td>1</td>\n",
       "      <td>276</td>\n",
       "    </tr>\n",
       "    <tr>\n",
       "      <th>1000208</th>\n",
       "      <td>6040</td>\n",
       "      <td>1097</td>\n",
       "      <td>1</td>\n",
       "      <td>276</td>\n",
       "    </tr>\n",
       "  </tbody>\n",
       "</table>\n",
       "<p>1000209 rows × 4 columns</p>\n",
       "</div>"
      ],
      "text/plain": [
       "         user_id  item_id  implicit_rating  user_engagement\n",
       "0              1     1193                1               53\n",
       "1              1      661                1               53\n",
       "2              1      914                1               53\n",
       "3              1     3408                1               53\n",
       "4              1     2355                1               53\n",
       "...          ...      ...              ...              ...\n",
       "1000204     6040     1091                0              276\n",
       "1000205     6040     1094                1              276\n",
       "1000206     6040      562                1              276\n",
       "1000207     6040     1096                1              276\n",
       "1000208     6040     1097                1              276\n",
       "\n",
       "[1000209 rows x 4 columns]"
      ]
     },
     "execution_count": 17,
     "metadata": {},
     "output_type": "execute_result"
    }
   ],
   "source": [
    "user_engagement = interaction.groupby(by='user_id')['implicit_rating'].sum().reset_index()\n",
    "user_engagement.columns = ['user_id', 'user_engagement']\n",
    "\n",
    "interaction = pd.merge(interaction, user_engagement, on='user_id', how='left')\n",
    "interaction"
   ]
  },
  {
   "cell_type": "code",
   "execution_count": 18,
   "metadata": {},
   "outputs": [
    {
     "data": {
      "text/html": [
       "<div>\n",
       "<style scoped>\n",
       "    .dataframe tbody tr th:only-of-type {\n",
       "        vertical-align: middle;\n",
       "    }\n",
       "\n",
       "    .dataframe tbody tr th {\n",
       "        vertical-align: top;\n",
       "    }\n",
       "\n",
       "    .dataframe thead th {\n",
       "        text-align: right;\n",
       "    }\n",
       "</style>\n",
       "<table border=\"1\" class=\"dataframe\">\n",
       "  <thead>\n",
       "    <tr style=\"text-align: right;\">\n",
       "      <th></th>\n",
       "      <th>user_id</th>\n",
       "      <th>item_id</th>\n",
       "      <th>implicit_rating</th>\n",
       "      <th>user_engagement</th>\n",
       "      <th>movie_popularity</th>\n",
       "    </tr>\n",
       "  </thead>\n",
       "  <tbody>\n",
       "    <tr>\n",
       "      <th>0</th>\n",
       "      <td>1</td>\n",
       "      <td>1193</td>\n",
       "      <td>1</td>\n",
       "      <td>53</td>\n",
       "      <td>1680</td>\n",
       "    </tr>\n",
       "    <tr>\n",
       "      <th>1</th>\n",
       "      <td>1</td>\n",
       "      <td>661</td>\n",
       "      <td>1</td>\n",
       "      <td>53</td>\n",
       "      <td>443</td>\n",
       "    </tr>\n",
       "    <tr>\n",
       "      <th>2</th>\n",
       "      <td>1</td>\n",
       "      <td>914</td>\n",
       "      <td>1</td>\n",
       "      <td>53</td>\n",
       "      <td>611</td>\n",
       "    </tr>\n",
       "    <tr>\n",
       "      <th>3</th>\n",
       "      <td>1</td>\n",
       "      <td>3408</td>\n",
       "      <td>1</td>\n",
       "      <td>53</td>\n",
       "      <td>1223</td>\n",
       "    </tr>\n",
       "    <tr>\n",
       "      <th>4</th>\n",
       "      <td>1</td>\n",
       "      <td>2355</td>\n",
       "      <td>1</td>\n",
       "      <td>53</td>\n",
       "      <td>1599</td>\n",
       "    </tr>\n",
       "    <tr>\n",
       "      <th>...</th>\n",
       "      <td>...</td>\n",
       "      <td>...</td>\n",
       "      <td>...</td>\n",
       "      <td>...</td>\n",
       "      <td>...</td>\n",
       "    </tr>\n",
       "    <tr>\n",
       "      <th>1000204</th>\n",
       "      <td>6040</td>\n",
       "      <td>1091</td>\n",
       "      <td>0</td>\n",
       "      <td>276</td>\n",
       "      <td>237</td>\n",
       "    </tr>\n",
       "    <tr>\n",
       "      <th>1000205</th>\n",
       "      <td>6040</td>\n",
       "      <td>1094</td>\n",
       "      <td>1</td>\n",
       "      <td>276</td>\n",
       "      <td>1100</td>\n",
       "    </tr>\n",
       "    <tr>\n",
       "      <th>1000206</th>\n",
       "      <td>6040</td>\n",
       "      <td>562</td>\n",
       "      <td>1</td>\n",
       "      <td>276</td>\n",
       "      <td>425</td>\n",
       "    </tr>\n",
       "    <tr>\n",
       "      <th>1000207</th>\n",
       "      <td>6040</td>\n",
       "      <td>1096</td>\n",
       "      <td>1</td>\n",
       "      <td>276</td>\n",
       "      <td>316</td>\n",
       "    </tr>\n",
       "    <tr>\n",
       "      <th>1000208</th>\n",
       "      <td>6040</td>\n",
       "      <td>1097</td>\n",
       "      <td>1</td>\n",
       "      <td>276</td>\n",
       "      <td>2102</td>\n",
       "    </tr>\n",
       "  </tbody>\n",
       "</table>\n",
       "<p>1000209 rows × 5 columns</p>\n",
       "</div>"
      ],
      "text/plain": [
       "         user_id  item_id  implicit_rating  user_engagement  movie_popularity\n",
       "0              1     1193                1               53              1680\n",
       "1              1      661                1               53               443\n",
       "2              1      914                1               53               611\n",
       "3              1     3408                1               53              1223\n",
       "4              1     2355                1               53              1599\n",
       "...          ...      ...              ...              ...               ...\n",
       "1000204     6040     1091                0              276               237\n",
       "1000205     6040     1094                1              276              1100\n",
       "1000206     6040      562                1              276               425\n",
       "1000207     6040     1096                1              276               316\n",
       "1000208     6040     1097                1              276              2102\n",
       "\n",
       "[1000209 rows x 5 columns]"
      ]
     },
     "execution_count": 18,
     "metadata": {},
     "output_type": "execute_result"
    }
   ],
   "source": [
    "movie_popularity = interaction.groupby(by='item_id')['implicit_rating'].sum().reset_index()\n",
    "movie_popularity.columns = ['item_id', 'movie_popularity']\n",
    "\n",
    "interaction = pd.merge(interaction, movie_popularity, on='item_id', how='left')\n",
    "interaction"
   ]
  },
  {
   "cell_type": "markdown",
   "metadata": {},
   "source": [
    "Data split"
   ]
  },
  {
   "cell_type": "code",
   "execution_count": 19,
   "metadata": {},
   "outputs": [
    {
     "data": {
      "text/html": [
       "<div>\n",
       "<style scoped>\n",
       "    .dataframe tbody tr th:only-of-type {\n",
       "        vertical-align: middle;\n",
       "    }\n",
       "\n",
       "    .dataframe tbody tr th {\n",
       "        vertical-align: top;\n",
       "    }\n",
       "\n",
       "    .dataframe thead th {\n",
       "        text-align: right;\n",
       "    }\n",
       "</style>\n",
       "<table border=\"1\" class=\"dataframe\">\n",
       "  <thead>\n",
       "    <tr style=\"text-align: right;\">\n",
       "      <th></th>\n",
       "      <th>user_id</th>\n",
       "      <th>item_id</th>\n",
       "      <th>user_engagement</th>\n",
       "      <th>movie_popularity</th>\n",
       "    </tr>\n",
       "  </thead>\n",
       "  <tbody>\n",
       "    <tr>\n",
       "      <th>416292</th>\n",
       "      <td>2506</td>\n",
       "      <td>2821</td>\n",
       "      <td>751</td>\n",
       "      <td>407</td>\n",
       "    </tr>\n",
       "    <tr>\n",
       "      <th>683230</th>\n",
       "      <td>4086</td>\n",
       "      <td>2633</td>\n",
       "      <td>38</td>\n",
       "      <td>269</td>\n",
       "    </tr>\n",
       "    <tr>\n",
       "      <th>2434</th>\n",
       "      <td>18</td>\n",
       "      <td>443</td>\n",
       "      <td>214</td>\n",
       "      <td>1941</td>\n",
       "    </tr>\n",
       "    <tr>\n",
       "      <th>688533</th>\n",
       "      <td>4117</td>\n",
       "      <td>2599</td>\n",
       "      <td>194</td>\n",
       "      <td>1290</td>\n",
       "    </tr>\n",
       "    <tr>\n",
       "      <th>472584</th>\n",
       "      <td>2906</td>\n",
       "      <td>759</td>\n",
       "      <td>654</td>\n",
       "      <td>304</td>\n",
       "    </tr>\n",
       "    <tr>\n",
       "      <th>...</th>\n",
       "      <td>...</td>\n",
       "      <td>...</td>\n",
       "      <td>...</td>\n",
       "      <td>...</td>\n",
       "    </tr>\n",
       "    <tr>\n",
       "      <th>259178</th>\n",
       "      <td>1585</td>\n",
       "      <td>1005</td>\n",
       "      <td>410</td>\n",
       "      <td>696</td>\n",
       "    </tr>\n",
       "    <tr>\n",
       "      <th>365838</th>\n",
       "      <td>2128</td>\n",
       "      <td>2495</td>\n",
       "      <td>264</td>\n",
       "      <td>1061</td>\n",
       "    </tr>\n",
       "    <tr>\n",
       "      <th>131932</th>\n",
       "      <td>853</td>\n",
       "      <td>2886</td>\n",
       "      <td>378</td>\n",
       "      <td>218</td>\n",
       "    </tr>\n",
       "    <tr>\n",
       "      <th>671155</th>\n",
       "      <td>4032</td>\n",
       "      <td>3246</td>\n",
       "      <td>596</td>\n",
       "      <td>486</td>\n",
       "    </tr>\n",
       "    <tr>\n",
       "      <th>121958</th>\n",
       "      <td>785</td>\n",
       "      <td>1292</td>\n",
       "      <td>59</td>\n",
       "      <td>671</td>\n",
       "    </tr>\n",
       "  </tbody>\n",
       "</table>\n",
       "<p>800167 rows × 4 columns</p>\n",
       "</div>"
      ],
      "text/plain": [
       "        user_id  item_id  user_engagement  movie_popularity\n",
       "416292     2506     2821              751               407\n",
       "683230     4086     2633               38               269\n",
       "2434         18      443              214              1941\n",
       "688533     4117     2599              194              1290\n",
       "472584     2906      759              654               304\n",
       "...         ...      ...              ...               ...\n",
       "259178     1585     1005              410               696\n",
       "365838     2128     2495              264              1061\n",
       "131932      853     2886              378               218\n",
       "671155     4032     3246              596               486\n",
       "121958      785     1292               59               671\n",
       "\n",
       "[800167 rows x 4 columns]"
      ]
     },
     "execution_count": 19,
     "metadata": {},
     "output_type": "execute_result"
    }
   ],
   "source": [
    "# Encode user_id and item_id\n",
    "user_encoder = LabelEncoder()\n",
    "movie_encoder = LabelEncoder()\n",
    "\n",
    "interaction['user_id'] = user_encoder.fit_transform(interaction['user_id'])\n",
    "interaction['item_id'] = movie_encoder.fit_transform(interaction['item_id'])\n",
    "    \n",
    "# Prepare features (X) and labels (y)\n",
    "X = interaction[['user_id', 'item_id', 'user_engagement', 'movie_popularity']]\n",
    "y = interaction['implicit_rating']\n",
    "    \n",
    "# Split data into training and testing sets\n",
    "X_train, X_test, y_train, y_test = train_test_split(X, y, test_size=0.2, random_state=42)\n",
    "X_train"
   ]
  },
  {
   "cell_type": "markdown",
   "metadata": {},
   "source": [
    "Investigate model under n_estimator settings"
   ]
  },
  {
   "cell_type": "code",
   "execution_count": 20,
   "metadata": {},
   "outputs": [
    {
     "name": "stderr",
     "output_type": "stream",
     "text": [
      "d:\\anaconda3\\Lib\\site-packages\\lightgbm\\engine.py:204: UserWarning: Found `n_estimators` in params. Will use it instead of argument\n",
      "  _log_warning(f\"Found `{alias}` in params. Will use it instead of argument\")\n"
     ]
    },
    {
     "name": "stdout",
     "output_type": "stream",
     "text": [
      "RMSE@10: 0.37389154776270006\n",
      "Execution time@10: 0.7536695003509521\n",
      "---------------------------------------------\n"
     ]
    },
    {
     "name": "stderr",
     "output_type": "stream",
     "text": [
      "d:\\anaconda3\\Lib\\site-packages\\lightgbm\\engine.py:204: UserWarning: Found `n_estimators` in params. Will use it instead of argument\n",
      "  _log_warning(f\"Found `{alias}` in params. Will use it instead of argument\")\n"
     ]
    },
    {
     "name": "stdout",
     "output_type": "stream",
     "text": [
      "RMSE@20: 0.3692024894426633\n",
      "Execution time@20: 0.9851794242858887\n",
      "---------------------------------------------\n"
     ]
    },
    {
     "name": "stderr",
     "output_type": "stream",
     "text": [
      "d:\\anaconda3\\Lib\\site-packages\\lightgbm\\engine.py:204: UserWarning: Found `n_estimators` in params. Will use it instead of argument\n",
      "  _log_warning(f\"Found `{alias}` in params. Will use it instead of argument\")\n"
     ]
    },
    {
     "name": "stdout",
     "output_type": "stream",
     "text": [
      "RMSE@50: 0.3643461511141935\n",
      "Execution time@50: 1.9357154369354248\n",
      "---------------------------------------------\n"
     ]
    },
    {
     "name": "stderr",
     "output_type": "stream",
     "text": [
      "d:\\anaconda3\\Lib\\site-packages\\lightgbm\\engine.py:204: UserWarning: Found `n_estimators` in params. Will use it instead of argument\n",
      "  _log_warning(f\"Found `{alias}` in params. Will use it instead of argument\")\n"
     ]
    },
    {
     "name": "stdout",
     "output_type": "stream",
     "text": [
      "RMSE@100: 0.3603007938848248\n",
      "Execution time@100: 3.4986982345581055\n",
      "---------------------------------------------\n"
     ]
    },
    {
     "name": "stderr",
     "output_type": "stream",
     "text": [
      "d:\\anaconda3\\Lib\\site-packages\\lightgbm\\engine.py:204: UserWarning: Found `n_estimators` in params. Will use it instead of argument\n",
      "  _log_warning(f\"Found `{alias}` in params. Will use it instead of argument\")\n"
     ]
    },
    {
     "name": "stdout",
     "output_type": "stream",
     "text": [
      "RMSE@150: 0.3576293242168453\n",
      "Execution time@150: 4.93700098991394\n",
      "---------------------------------------------\n"
     ]
    },
    {
     "name": "stderr",
     "output_type": "stream",
     "text": [
      "d:\\anaconda3\\Lib\\site-packages\\lightgbm\\engine.py:204: UserWarning: Found `n_estimators` in params. Will use it instead of argument\n",
      "  _log_warning(f\"Found `{alias}` in params. Will use it instead of argument\")\n"
     ]
    },
    {
     "name": "stdout",
     "output_type": "stream",
     "text": [
      "RMSE@200: 0.35572615836340876\n",
      "Execution time@200: 6.311439752578735\n",
      "---------------------------------------------\n"
     ]
    },
    {
     "name": "stderr",
     "output_type": "stream",
     "text": [
      "d:\\anaconda3\\Lib\\site-packages\\lightgbm\\engine.py:204: UserWarning: Found `n_estimators` in params. Will use it instead of argument\n",
      "  _log_warning(f\"Found `{alias}` in params. Will use it instead of argument\")\n"
     ]
    },
    {
     "name": "stdout",
     "output_type": "stream",
     "text": [
      "RMSE@250: 0.354102192224145\n",
      "Execution time@250: 6.858885049819946\n",
      "---------------------------------------------\n"
     ]
    },
    {
     "name": "stderr",
     "output_type": "stream",
     "text": [
      "d:\\anaconda3\\Lib\\site-packages\\lightgbm\\engine.py:204: UserWarning: Found `n_estimators` in params. Will use it instead of argument\n",
      "  _log_warning(f\"Found `{alias}` in params. Will use it instead of argument\")\n"
     ]
    },
    {
     "name": "stdout",
     "output_type": "stream",
     "text": [
      "RMSE@300: 0.35284339185402624\n",
      "Execution time@300: 8.261571884155273\n",
      "---------------------------------------------\n"
     ]
    },
    {
     "name": "stderr",
     "output_type": "stream",
     "text": [
      "d:\\anaconda3\\Lib\\site-packages\\lightgbm\\engine.py:204: UserWarning: Found `n_estimators` in params. Will use it instead of argument\n",
      "  _log_warning(f\"Found `{alias}` in params. Will use it instead of argument\")\n"
     ]
    },
    {
     "name": "stdout",
     "output_type": "stream",
     "text": [
      "RMSE@350: 0.35162408888828944\n",
      "Execution time@350: 9.855093002319336\n",
      "---------------------------------------------\n"
     ]
    },
    {
     "name": "stderr",
     "output_type": "stream",
     "text": [
      "d:\\anaconda3\\Lib\\site-packages\\lightgbm\\engine.py:204: UserWarning: Found `n_estimators` in params. Will use it instead of argument\n",
      "  _log_warning(f\"Found `{alias}` in params. Will use it instead of argument\")\n"
     ]
    },
    {
     "name": "stdout",
     "output_type": "stream",
     "text": [
      "RMSE@400: 0.35053751901744784\n",
      "Execution time@400: 11.485646724700928\n",
      "---------------------------------------------\n"
     ]
    },
    {
     "name": "stderr",
     "output_type": "stream",
     "text": [
      "d:\\anaconda3\\Lib\\site-packages\\lightgbm\\engine.py:204: UserWarning: Found `n_estimators` in params. Will use it instead of argument\n",
      "  _log_warning(f\"Found `{alias}` in params. Will use it instead of argument\")\n"
     ]
    },
    {
     "name": "stdout",
     "output_type": "stream",
     "text": [
      "RMSE@450: 0.3494617101236886\n",
      "Execution time@450: 13.777333498001099\n",
      "---------------------------------------------\n"
     ]
    },
    {
     "name": "stderr",
     "output_type": "stream",
     "text": [
      "d:\\anaconda3\\Lib\\site-packages\\lightgbm\\engine.py:204: UserWarning: Found `n_estimators` in params. Will use it instead of argument\n",
      "  _log_warning(f\"Found `{alias}` in params. Will use it instead of argument\")\n"
     ]
    },
    {
     "name": "stdout",
     "output_type": "stream",
     "text": [
      "RMSE@500: 0.34869822432874253\n",
      "Execution time@500: 14.013600826263428\n",
      "---------------------------------------------\n"
     ]
    }
   ],
   "source": [
    "import lightgbm as lgb\n",
    "from sklearn.metrics import mean_squared_error\n",
    "import time\n",
    "\n",
    "X_train['user_id'] = X_train['user_id'].astype('category')\n",
    "X_train['item_id'] = X_train['item_id'].astype('category')\n",
    "X_test['user_id'] = X_test['user_id'].astype('category')\n",
    "X_test['item_id'] = X_test['item_id'].astype('category')\n",
    "\n",
    "lgb_train = lgb.Dataset(X_train, label=y_train, categorical_feature=['user_id', 'item_id'], weight=[5 if i == 1 else 1 for i in y_train], free_raw_data=False)\n",
    "lgb_test = lgb.Dataset(X_test, label=y_test, categorical_feature=['user_id', 'item_id'], reference=lgb_train, free_raw_data=False)\n",
    "\n",
    "n_estimators = [10, 20, 50, 100, 150, 200, 250, 300, 350, 400, 450, 500]\n",
    "train_times = []\n",
    "rmses = []\n",
    "\n",
    "for n_estimator in n_estimators:\n",
    "    params = {\n",
    "    'objective': 'binary',       # Suitable for recommendation tasks\n",
    "    'metric': 'rmse',                # Root Mean Squared Error as evaluation metric\n",
    "    'n_estimators': n_estimator,\n",
    "    'learning_rate': 0.1,\n",
    "    'num_leaves': 50,                # Controls complexity\n",
    "    'max_depth': 10,\n",
    "    'verbose': -1\n",
    "    }\n",
    "\n",
    "    start_train_time = time.time()\n",
    "\n",
    "    model = lgb.train(\n",
    "        params,\n",
    "        lgb_train,\n",
    "        num_boost_round=200,             # Maximum rounds\n",
    "        valid_sets=[lgb_train, lgb_test],\n",
    "        valid_names=['train', 'test']\n",
    "    )\n",
    "\n",
    "    y_pred = model.predict(X_test, num_iteration=model.best_iteration)\n",
    "\n",
    "    end_train_time = time.time()\n",
    "    train_time = (end_train_time - start_train_time)\n",
    "\n",
    "    rmse = np.sqrt(mean_squared_error(y_test, y_pred))\n",
    "    print(f\"RMSE@{n_estimator}: {rmse}\")\n",
    "    print(f\"Execution time@{n_estimator}: {train_time}\")\n",
    "    print(\"---------------------------------------------\")\n",
    "\n",
    "    train_times.append(train_time)\n",
    "    rmses.append(rmse)"
   ]
  },
  {
   "cell_type": "markdown",
   "metadata": {},
   "source": [
    "Line graph"
   ]
  },
  {
   "cell_type": "code",
   "execution_count": 21,
   "metadata": {},
   "outputs": [
    {
     "data": {
      "image/png": "[encoded data removed]",
      "text/plain": [
       "<Figure size 1000x600 with 1 Axes>"
      ]
     },
     "metadata": {},
     "output_type": "display_data"
    }
   ],
   "source": [
    "import matplotlib.pyplot as plt\n",
    "from sklearn.preprocessing import MinMaxScaler\n",
    "\n",
    "# Plotting RMSE vs Execution Time\n",
    "plt.figure(figsize=(10, 6))\n",
    "plt.plot(train_times, rmses, marker='o', color='r', linestyle='-')\n",
    "\n",
    "# Adding labels for each point to show n_estimators\n",
    "for i, n_estimator in enumerate(n_estimators):\n",
    "    plt.text(train_times[i], rmses[i], str(n_estimator), ha='left', va='bottom', color='black')\n",
    "\n",
    "# Set x-axis ticks at every 1-second interval\n",
    "max_time = max(train_times)\n",
    "plt.xticks(np.arange(0, max_time + 1, 1))  # Adjusting to show every second\n",
    "\n",
    "# Labels, title, and grid\n",
    "plt.title(\"RMSE vs Execution Time with Number of Estimators as Labels\")\n",
    "plt.xlabel(\"Execution Time (seconds)\")\n",
    "plt.ylabel(\"RMSE\")\n",
    "plt.grid(True)\n",
    "plt.show()"
   ]
  },
  {
   "cell_type": "markdown",
   "metadata": {},
   "source": [
    "Bar plot"
   ]
  },
  {
   "cell_type": "code",
   "execution_count": 22,
   "metadata": {},
   "outputs": [
    {
     "data": {
      "image/png": "[encoded data removed]",
      "text/plain": [
       "<Figure size 1200x600 with 2 Axes>"
      ]
     },
     "metadata": {},
     "output_type": "display_data"
    }
   ],
   "source": [
    "import matplotlib.pyplot as plt\n",
    "import numpy as np\n",
    "\n",
    "# Create the plot\n",
    "fig, ax1 = plt.subplots(figsize=(12, 6))\n",
    "\n",
    "# Bar plot for Execution Time\n",
    "bars1 = ax1.bar(np.arange(len(n_estimators)) - 0.2, train_times, width=0.4, label=\"Execution Time (s)\", color='skyblue')\n",
    "ax1.set_xlabel(\"Number of Estimators\")\n",
    "ax1.set_ylabel(\"Execution Time (seconds)\", color='black')\n",
    "ax1.tick_params(axis='y', labelcolor='black')\n",
    "\n",
    "# Bar plot for RMSE on a secondary y-axis with adjusted range\n",
    "ax2 = ax1.twinx()\n",
    "bars2 = ax2.bar(np.arange(len(n_estimators)) + 0.2, rmses, width=0.4, label=\"RMSE\", color='salmon')\n",
    "ax2.set_ylabel(\"RMSE\", color='black')\n",
    "ax2.tick_params(axis='y', labelcolor='black')\n",
    "\n",
    "# Set x-axis labels to max_depth values\n",
    "plt.xticks(np.arange(len(n_estimators)), n_estimators)\n",
    "\n",
    "# Adjust RMSE y-axis range for better visibility\n",
    "ax2.set_ylim(0.34, 0.38)\n",
    "\n",
    "# Title and grid\n",
    "plt.title(\"Execution Time and RMSE for Different Number of Estimators\")\n",
    "ax1.grid(True)\n",
    "\n",
    "# Adding a combined legend at the bottom\n",
    "plt.legend([bars1, bars2], [\"Execution Time (s)\", \"RMSE\"], loc='upper center', bbox_to_anchor=(0.5, -0.1), ncol=2)\n",
    "\n",
    "fig.tight_layout()\n",
    "plt.subplots_adjust(bottom=0.2)\n",
    "plt.show()\n"
   ]
  },
  {
   "cell_type": "markdown",
   "metadata": {},
   "source": [
    "Investigate model under max_depth settings"
   ]
  },
  {
   "cell_type": "code",
   "execution_count": 23,
   "metadata": {},
   "outputs": [
    {
     "name": "stderr",
     "output_type": "stream",
     "text": [
      "d:\\anaconda3\\Lib\\site-packages\\lightgbm\\engine.py:204: UserWarning: Found `n_estimators` in params. Will use it instead of argument\n",
      "  _log_warning(f\"Found `{alias}` in params. Will use it instead of argument\")\n"
     ]
    },
    {
     "name": "stdout",
     "output_type": "stream",
     "text": [
      "RMSE@1: 0.3785858417331261\n",
      "Execution time@1: 1.1970369815826416\n",
      "---------------------------------------------\n"
     ]
    },
    {
     "name": "stderr",
     "output_type": "stream",
     "text": [
      "d:\\anaconda3\\Lib\\site-packages\\lightgbm\\engine.py:204: UserWarning: Found `n_estimators` in params. Will use it instead of argument\n",
      "  _log_warning(f\"Found `{alias}` in params. Will use it instead of argument\")\n"
     ]
    },
    {
     "name": "stdout",
     "output_type": "stream",
     "text": [
      "RMSE@2: 0.37326793098126004\n",
      "Execution time@2: 1.2560484409332275\n",
      "---------------------------------------------\n"
     ]
    },
    {
     "name": "stderr",
     "output_type": "stream",
     "text": [
      "d:\\anaconda3\\Lib\\site-packages\\lightgbm\\engine.py:204: UserWarning: Found `n_estimators` in params. Will use it instead of argument\n",
      "  _log_warning(f\"Found `{alias}` in params. Will use it instead of argument\")\n"
     ]
    },
    {
     "name": "stdout",
     "output_type": "stream",
     "text": [
      "RMSE@4: 0.3680699260803118\n",
      "Execution time@4: 1.680732250213623\n",
      "---------------------------------------------\n"
     ]
    },
    {
     "name": "stderr",
     "output_type": "stream",
     "text": [
      "d:\\anaconda3\\Lib\\site-packages\\lightgbm\\engine.py:204: UserWarning: Found `n_estimators` in params. Will use it instead of argument\n",
      "  _log_warning(f\"Found `{alias}` in params. Will use it instead of argument\")\n"
     ]
    },
    {
     "name": "stdout",
     "output_type": "stream",
     "text": [
      "RMSE@6: 0.36439791321175236\n",
      "Execution time@6: 2.2457430362701416\n",
      "---------------------------------------------\n"
     ]
    },
    {
     "name": "stderr",
     "output_type": "stream",
     "text": [
      "d:\\anaconda3\\Lib\\site-packages\\lightgbm\\engine.py:204: UserWarning: Found `n_estimators` in params. Will use it instead of argument\n",
      "  _log_warning(f\"Found `{alias}` in params. Will use it instead of argument\")\n"
     ]
    },
    {
     "name": "stdout",
     "output_type": "stream",
     "text": [
      "RMSE@8: 0.36206488776427015\n",
      "Execution time@8: 3.080104112625122\n",
      "---------------------------------------------\n"
     ]
    },
    {
     "name": "stderr",
     "output_type": "stream",
     "text": [
      "d:\\anaconda3\\Lib\\site-packages\\lightgbm\\engine.py:204: UserWarning: Found `n_estimators` in params. Will use it instead of argument\n",
      "  _log_warning(f\"Found `{alias}` in params. Will use it instead of argument\")\n"
     ]
    },
    {
     "name": "stdout",
     "output_type": "stream",
     "text": [
      "RMSE@10: 0.3603007938848248\n",
      "Execution time@10: 3.0017855167388916\n",
      "---------------------------------------------\n"
     ]
    },
    {
     "name": "stderr",
     "output_type": "stream",
     "text": [
      "d:\\anaconda3\\Lib\\site-packages\\lightgbm\\engine.py:204: UserWarning: Found `n_estimators` in params. Will use it instead of argument\n",
      "  _log_warning(f\"Found `{alias}` in params. Will use it instead of argument\")\n"
     ]
    },
    {
     "name": "stdout",
     "output_type": "stream",
     "text": [
      "RMSE@12: 0.35908422048559185\n",
      "Execution time@12: 3.4360458850860596\n",
      "---------------------------------------------\n"
     ]
    },
    {
     "name": "stderr",
     "output_type": "stream",
     "text": [
      "d:\\anaconda3\\Lib\\site-packages\\lightgbm\\engine.py:204: UserWarning: Found `n_estimators` in params. Will use it instead of argument\n",
      "  _log_warning(f\"Found `{alias}` in params. Will use it instead of argument\")\n"
     ]
    },
    {
     "name": "stdout",
     "output_type": "stream",
     "text": [
      "RMSE@15: 0.3576946773714848\n",
      "Execution time@15: 3.982726573944092\n",
      "---------------------------------------------\n"
     ]
    },
    {
     "name": "stderr",
     "output_type": "stream",
     "text": [
      "d:\\anaconda3\\Lib\\site-packages\\lightgbm\\engine.py:204: UserWarning: Found `n_estimators` in params. Will use it instead of argument\n",
      "  _log_warning(f\"Found `{alias}` in params. Will use it instead of argument\")\n"
     ]
    },
    {
     "name": "stdout",
     "output_type": "stream",
     "text": [
      "RMSE@20: 0.3558477974644491\n",
      "Execution time@20: 4.807315826416016\n",
      "---------------------------------------------\n"
     ]
    }
   ],
   "source": [
    "import lightgbm as lgb\n",
    "from sklearn.metrics import mean_squared_error\n",
    "import time\n",
    "\n",
    "X_train['user_id'] = X_train['user_id'].astype('category')\n",
    "X_train['item_id'] = X_train['item_id'].astype('category')\n",
    "X_test['user_id'] = X_test['user_id'].astype('category')\n",
    "X_test['item_id'] = X_test['item_id'].astype('category')\n",
    "\n",
    "lgb_train = lgb.Dataset(X_train, label=y_train, categorical_feature=['user_id', 'item_id'], weight=[5 if i == 1 else 1 for i in y_train], free_raw_data=False)\n",
    "lgb_test = lgb.Dataset(X_test, label=y_test, categorical_feature=['user_id', 'item_id'], reference=lgb_train, free_raw_data=False)\n",
    "\n",
    "max_depths = [1, 2, 4, 6, 8, 10, 12, 15, 20]\n",
    "train_times = []\n",
    "rmses = []\n",
    "\n",
    "for max_depth in max_depths:\n",
    "    params = {\n",
    "    'objective': 'binary',       # Suitable for recommendation tasks\n",
    "    'metric': 'rmse',                # Root Mean Squared Error as evaluation metric\n",
    "    'n_estimators': 100,\n",
    "    'learning_rate': 0.1,\n",
    "    'num_leaves': 50,                # Controls complexity\n",
    "    'max_depth': max_depth,\n",
    "    'verbose': -1\n",
    "    }\n",
    "\n",
    "    start_train_time = time.time()\n",
    "\n",
    "    model = lgb.train(\n",
    "        params,\n",
    "        lgb_train,\n",
    "        num_boost_round=200,             # Maximum rounds\n",
    "        valid_sets=[lgb_train, lgb_test],\n",
    "        valid_names=['train', 'test']\n",
    "    )\n",
    "\n",
    "    y_pred = model.predict(X_test, num_iteration=model.best_iteration)\n",
    "\n",
    "    end_train_time = time.time()\n",
    "    train_time = (end_train_time - start_train_time)\n",
    "\n",
    "    rmse = np.sqrt(mean_squared_error(y_test, y_pred))\n",
    "    print(f\"RMSE@{max_depth}: {rmse}\")\n",
    "    print(f\"Execution time@{max_depth}: {train_time}\")\n",
    "    print(\"---------------------------------------------\")\n",
    "\n",
    "    train_times.append(train_time)\n",
    "    rmses.append(rmse)"
   ]
  },
  {
   "cell_type": "markdown",
   "metadata": {},
   "source": [
    "Line graph"
   ]
  },
  {
   "cell_type": "code",
   "execution_count": 24,
   "metadata": {},
   "outputs": [
    {
     "data": {
      "image/png": "[encoded data removed]",
      "text/plain": [
       "<Figure size 1000x600 with 1 Axes>"
      ]
     },
     "metadata": {},
     "output_type": "display_data"
    }
   ],
   "source": [
    "import matplotlib.pyplot as plt\n",
    "from sklearn.preprocessing import MinMaxScaler\n",
    "\n",
    "# Plotting RMSE vs Execution Time\n",
    "plt.figure(figsize=(10, 6))\n",
    "plt.plot(train_times, rmses, marker='o', color='r', linestyle='-')\n",
    "\n",
    "# Adding labels for each point to show max_depth\n",
    "for i, max_depth in enumerate(max_depths):\n",
    "    plt.text(train_times[i], rmses[i], str(max_depth), ha='left', va='bottom', color='black')\n",
    "\n",
    "# Set x-axis ticks at every 1-second interval\n",
    "max_time = max(train_times)\n",
    "#plt.xticks(np.arange(0, max_time + 1, 1))  # Adjusting to show every second\n",
    "\n",
    "# Labels, title, and grid\n",
    "plt.title(\"RMSE vs Execution Time with Max Depth as Labels\")\n",
    "plt.xlabel(\"Execution Time (seconds)\")\n",
    "plt.ylabel(\"RMSE\")\n",
    "plt.grid(True)\n",
    "plt.show()"
   ]
  },
  {
   "cell_type": "markdown",
   "metadata": {},
   "source": [
    "Bar plot"
   ]
  },
  {
   "cell_type": "code",
   "execution_count": 25,
   "metadata": {},
   "outputs": [
    {
     "data": {
      "image/png": "[encoded data removed]",
      "text/plain": [
       "<Figure size 1200x600 with 2 Axes>"
      ]
     },
     "metadata": {},
     "output_type": "display_data"
    }
   ],
   "source": [
    "import matplotlib.pyplot as plt\n",
    "import numpy as np\n",
    "\n",
    "# Create the plot\n",
    "fig, ax1 = plt.subplots(figsize=(12, 6))\n",
    "\n",
    "# Bar plot for Execution Time\n",
    "bars1 = ax1.bar(np.arange(len(max_depths)) - 0.2, train_times, width=0.4, label=\"Execution Time (s)\", color='skyblue')\n",
    "ax1.set_xlabel(\"Max Depth\")\n",
    "ax1.set_ylabel(\"Execution Time (seconds)\", color='black')\n",
    "ax1.tick_params(axis='y', labelcolor='black')\n",
    "\n",
    "# Bar plot for RMSE on a secondary y-axis with adjusted range\n",
    "ax2 = ax1.twinx()\n",
    "bars2 = ax2.bar(np.arange(len(max_depths)) + 0.2, rmses, width=0.4, label=\"RMSE\", color='salmon')\n",
    "ax2.set_ylabel(\"RMSE\", color='black')\n",
    "ax2.tick_params(axis='y', labelcolor='black')\n",
    "\n",
    "# Set x-axis labels to max_depth values\n",
    "plt.xticks(np.arange(len(max_depths)), max_depths)\n",
    "\n",
    "# Adjust RMSE y-axis range for better visibility\n",
    "ax2.set_ylim(0.34, 0.38)\n",
    "\n",
    "# Title and grid\n",
    "plt.title(\"Execution Time and RMSE for Different Max Depths\")\n",
    "ax1.grid(True)\n",
    "\n",
    "# Adding a combined legend at the bottom\n",
    "plt.legend([bars1, bars2], [\"Execution Time (s)\", \"RMSE\"], loc='upper center', bbox_to_anchor=(0.5, -0.1), ncol=2)\n",
    "\n",
    "fig.tight_layout()\n",
    "plt.subplots_adjust(bottom=0.2)\n",
    "plt.show()"
   ]
  },
  {
   "cell_type": "markdown",
   "metadata": {},
   "source": [
    "Investigate model under regularization settings"
   ]
  },
  {
   "cell_type": "code",
   "execution_count": 26,
   "metadata": {},
   "outputs": [
    {
     "name": "stderr",
     "output_type": "stream",
     "text": [
      "d:\\anaconda3\\Lib\\site-packages\\lightgbm\\engine.py:204: UserWarning: Found `n_estimators` in params. Will use it instead of argument\n",
      "  _log_warning(f\"Found `{alias}` in params. Will use it instead of argument\")\n"
     ]
    },
    {
     "name": "stdout",
     "output_type": "stream",
     "text": [
      "RMSE@0/0: 0.3603007938848248\n",
      "---------------------------------------------\n"
     ]
    },
    {
     "name": "stderr",
     "output_type": "stream",
     "text": [
      "d:\\anaconda3\\Lib\\site-packages\\lightgbm\\engine.py:204: UserWarning: Found `n_estimators` in params. Will use it instead of argument\n",
      "  _log_warning(f\"Found `{alias}` in params. Will use it instead of argument\")\n"
     ]
    },
    {
     "name": "stdout",
     "output_type": "stream",
     "text": [
      "RMSE@0/0.5: 0.36028056130796554\n",
      "---------------------------------------------\n"
     ]
    },
    {
     "name": "stderr",
     "output_type": "stream",
     "text": [
      "d:\\anaconda3\\Lib\\site-packages\\lightgbm\\engine.py:204: UserWarning: Found `n_estimators` in params. Will use it instead of argument\n",
      "  _log_warning(f\"Found `{alias}` in params. Will use it instead of argument\")\n"
     ]
    },
    {
     "name": "stdout",
     "output_type": "stream",
     "text": [
      "RMSE@0/1.0: 0.36038367180639214\n",
      "---------------------------------------------\n"
     ]
    },
    {
     "name": "stderr",
     "output_type": "stream",
     "text": [
      "d:\\anaconda3\\Lib\\site-packages\\lightgbm\\engine.py:204: UserWarning: Found `n_estimators` in params. Will use it instead of argument\n",
      "  _log_warning(f\"Found `{alias}` in params. Will use it instead of argument\")\n"
     ]
    },
    {
     "name": "stdout",
     "output_type": "stream",
     "text": [
      "RMSE@0/2.0: 0.3604549202163441\n",
      "---------------------------------------------\n"
     ]
    },
    {
     "name": "stderr",
     "output_type": "stream",
     "text": [
      "d:\\anaconda3\\Lib\\site-packages\\lightgbm\\engine.py:204: UserWarning: Found `n_estimators` in params. Will use it instead of argument\n",
      "  _log_warning(f\"Found `{alias}` in params. Will use it instead of argument\")\n"
     ]
    },
    {
     "name": "stdout",
     "output_type": "stream",
     "text": [
      "RMSE@0/5.0: 0.3605508953178624\n",
      "---------------------------------------------\n"
     ]
    },
    {
     "name": "stderr",
     "output_type": "stream",
     "text": [
      "d:\\anaconda3\\Lib\\site-packages\\lightgbm\\engine.py:204: UserWarning: Found `n_estimators` in params. Will use it instead of argument\n",
      "  _log_warning(f\"Found `{alias}` in params. Will use it instead of argument\")\n"
     ]
    },
    {
     "name": "stdout",
     "output_type": "stream",
     "text": [
      "RMSE@0.5/0: 0.36040322784025297\n",
      "---------------------------------------------\n"
     ]
    },
    {
     "name": "stderr",
     "output_type": "stream",
     "text": [
      "d:\\anaconda3\\Lib\\site-packages\\lightgbm\\engine.py:204: UserWarning: Found `n_estimators` in params. Will use it instead of argument\n",
      "  _log_warning(f\"Found `{alias}` in params. Will use it instead of argument\")\n"
     ]
    },
    {
     "name": "stdout",
     "output_type": "stream",
     "text": [
      "RMSE@0.5/0.5: 0.3603801805877855\n",
      "---------------------------------------------\n"
     ]
    },
    {
     "name": "stderr",
     "output_type": "stream",
     "text": [
      "d:\\anaconda3\\Lib\\site-packages\\lightgbm\\engine.py:204: UserWarning: Found `n_estimators` in params. Will use it instead of argument\n",
      "  _log_warning(f\"Found `{alias}` in params. Will use it instead of argument\")\n"
     ]
    },
    {
     "name": "stdout",
     "output_type": "stream",
     "text": [
      "RMSE@0.5/1.0: 0.3604438790904735\n",
      "---------------------------------------------\n"
     ]
    },
    {
     "name": "stderr",
     "output_type": "stream",
     "text": [
      "d:\\anaconda3\\Lib\\site-packages\\lightgbm\\engine.py:204: UserWarning: Found `n_estimators` in params. Will use it instead of argument\n",
      "  _log_warning(f\"Found `{alias}` in params. Will use it instead of argument\")\n"
     ]
    },
    {
     "name": "stdout",
     "output_type": "stream",
     "text": [
      "RMSE@0.5/2.0: 0.36033763680839465\n",
      "---------------------------------------------\n"
     ]
    },
    {
     "name": "stderr",
     "output_type": "stream",
     "text": [
      "d:\\anaconda3\\Lib\\site-packages\\lightgbm\\engine.py:204: UserWarning: Found `n_estimators` in params. Will use it instead of argument\n",
      "  _log_warning(f\"Found `{alias}` in params. Will use it instead of argument\")\n"
     ]
    },
    {
     "name": "stdout",
     "output_type": "stream",
     "text": [
      "RMSE@0.5/5.0: 0.36040878262915643\n",
      "---------------------------------------------\n"
     ]
    },
    {
     "name": "stderr",
     "output_type": "stream",
     "text": [
      "d:\\anaconda3\\Lib\\site-packages\\lightgbm\\engine.py:204: UserWarning: Found `n_estimators` in params. Will use it instead of argument\n",
      "  _log_warning(f\"Found `{alias}` in params. Will use it instead of argument\")\n"
     ]
    },
    {
     "name": "stdout",
     "output_type": "stream",
     "text": [
      "RMSE@1.0/0: 0.3604685560276964\n",
      "---------------------------------------------\n"
     ]
    },
    {
     "name": "stderr",
     "output_type": "stream",
     "text": [
      "d:\\anaconda3\\Lib\\site-packages\\lightgbm\\engine.py:204: UserWarning: Found `n_estimators` in params. Will use it instead of argument\n",
      "  _log_warning(f\"Found `{alias}` in params. Will use it instead of argument\")\n"
     ]
    },
    {
     "name": "stdout",
     "output_type": "stream",
     "text": [
      "RMSE@1.0/0.5: 0.36048984906655374\n",
      "---------------------------------------------\n"
     ]
    },
    {
     "name": "stderr",
     "output_type": "stream",
     "text": [
      "d:\\anaconda3\\Lib\\site-packages\\lightgbm\\engine.py:204: UserWarning: Found `n_estimators` in params. Will use it instead of argument\n",
      "  _log_warning(f\"Found `{alias}` in params. Will use it instead of argument\")\n"
     ]
    },
    {
     "name": "stdout",
     "output_type": "stream",
     "text": [
      "RMSE@1.0/1.0: 0.3603047890452731\n",
      "---------------------------------------------\n"
     ]
    },
    {
     "name": "stderr",
     "output_type": "stream",
     "text": [
      "d:\\anaconda3\\Lib\\site-packages\\lightgbm\\engine.py:204: UserWarning: Found `n_estimators` in params. Will use it instead of argument\n",
      "  _log_warning(f\"Found `{alias}` in params. Will use it instead of argument\")\n"
     ]
    },
    {
     "name": "stdout",
     "output_type": "stream",
     "text": [
      "RMSE@1.0/2.0: 0.360679494689008\n",
      "---------------------------------------------\n"
     ]
    },
    {
     "name": "stderr",
     "output_type": "stream",
     "text": [
      "d:\\anaconda3\\Lib\\site-packages\\lightgbm\\engine.py:204: UserWarning: Found `n_estimators` in params. Will use it instead of argument\n",
      "  _log_warning(f\"Found `{alias}` in params. Will use it instead of argument\")\n"
     ]
    },
    {
     "name": "stdout",
     "output_type": "stream",
     "text": [
      "RMSE@1.0/5.0: 0.3605223858955782\n",
      "---------------------------------------------\n"
     ]
    },
    {
     "name": "stderr",
     "output_type": "stream",
     "text": [
      "d:\\anaconda3\\Lib\\site-packages\\lightgbm\\engine.py:204: UserWarning: Found `n_estimators` in params. Will use it instead of argument\n",
      "  _log_warning(f\"Found `{alias}` in params. Will use it instead of argument\")\n"
     ]
    },
    {
     "name": "stdout",
     "output_type": "stream",
     "text": [
      "RMSE@2.0/0: 0.36052719815262796\n",
      "---------------------------------------------\n"
     ]
    },
    {
     "name": "stderr",
     "output_type": "stream",
     "text": [
      "d:\\anaconda3\\Lib\\site-packages\\lightgbm\\engine.py:204: UserWarning: Found `n_estimators` in params. Will use it instead of argument\n",
      "  _log_warning(f\"Found `{alias}` in params. Will use it instead of argument\")\n"
     ]
    },
    {
     "name": "stdout",
     "output_type": "stream",
     "text": [
      "RMSE@2.0/0.5: 0.3604180622350794\n",
      "---------------------------------------------\n"
     ]
    },
    {
     "name": "stderr",
     "output_type": "stream",
     "text": [
      "d:\\anaconda3\\Lib\\site-packages\\lightgbm\\engine.py:204: UserWarning: Found `n_estimators` in params. Will use it instead of argument\n",
      "  _log_warning(f\"Found `{alias}` in params. Will use it instead of argument\")\n"
     ]
    },
    {
     "name": "stdout",
     "output_type": "stream",
     "text": [
      "RMSE@2.0/1.0: 0.3604269857938168\n",
      "---------------------------------------------\n"
     ]
    },
    {
     "name": "stderr",
     "output_type": "stream",
     "text": [
      "d:\\anaconda3\\Lib\\site-packages\\lightgbm\\engine.py:204: UserWarning: Found `n_estimators` in params. Will use it instead of argument\n",
      "  _log_warning(f\"Found `{alias}` in params. Will use it instead of argument\")\n"
     ]
    },
    {
     "name": "stdout",
     "output_type": "stream",
     "text": [
      "RMSE@2.0/2.0: 0.3605503481090806\n",
      "---------------------------------------------\n"
     ]
    },
    {
     "name": "stderr",
     "output_type": "stream",
     "text": [
      "d:\\anaconda3\\Lib\\site-packages\\lightgbm\\engine.py:204: UserWarning: Found `n_estimators` in params. Will use it instead of argument\n",
      "  _log_warning(f\"Found `{alias}` in params. Will use it instead of argument\")\n"
     ]
    },
    {
     "name": "stdout",
     "output_type": "stream",
     "text": [
      "RMSE@2.0/5.0: 0.3606804095687765\n",
      "---------------------------------------------\n"
     ]
    },
    {
     "name": "stderr",
     "output_type": "stream",
     "text": [
      "d:\\anaconda3\\Lib\\site-packages\\lightgbm\\engine.py:204: UserWarning: Found `n_estimators` in params. Will use it instead of argument\n",
      "  _log_warning(f\"Found `{alias}` in params. Will use it instead of argument\")\n"
     ]
    },
    {
     "name": "stdout",
     "output_type": "stream",
     "text": [
      "RMSE@5.0/0: 0.3604804596937974\n",
      "---------------------------------------------\n"
     ]
    },
    {
     "name": "stderr",
     "output_type": "stream",
     "text": [
      "d:\\anaconda3\\Lib\\site-packages\\lightgbm\\engine.py:204: UserWarning: Found `n_estimators` in params. Will use it instead of argument\n",
      "  _log_warning(f\"Found `{alias}` in params. Will use it instead of argument\")\n"
     ]
    },
    {
     "name": "stdout",
     "output_type": "stream",
     "text": [
      "RMSE@5.0/0.5: 0.3605837425754703\n",
      "---------------------------------------------\n"
     ]
    },
    {
     "name": "stderr",
     "output_type": "stream",
     "text": [
      "d:\\anaconda3\\Lib\\site-packages\\lightgbm\\engine.py:204: UserWarning: Found `n_estimators` in params. Will use it instead of argument\n",
      "  _log_warning(f\"Found `{alias}` in params. Will use it instead of argument\")\n"
     ]
    },
    {
     "name": "stdout",
     "output_type": "stream",
     "text": [
      "RMSE@5.0/1.0: 0.36054627742911954\n",
      "---------------------------------------------\n"
     ]
    },
    {
     "name": "stderr",
     "output_type": "stream",
     "text": [
      "d:\\anaconda3\\Lib\\site-packages\\lightgbm\\engine.py:204: UserWarning: Found `n_estimators` in params. Will use it instead of argument\n",
      "  _log_warning(f\"Found `{alias}` in params. Will use it instead of argument\")\n"
     ]
    },
    {
     "name": "stdout",
     "output_type": "stream",
     "text": [
      "RMSE@5.0/2.0: 0.36061958467215216\n",
      "---------------------------------------------\n"
     ]
    },
    {
     "name": "stderr",
     "output_type": "stream",
     "text": [
      "d:\\anaconda3\\Lib\\site-packages\\lightgbm\\engine.py:204: UserWarning: Found `n_estimators` in params. Will use it instead of argument\n",
      "  _log_warning(f\"Found `{alias}` in params. Will use it instead of argument\")\n"
     ]
    },
    {
     "name": "stdout",
     "output_type": "stream",
     "text": [
      "RMSE@5.0/5.0: 0.3607659758101513\n",
      "---------------------------------------------\n"
     ]
    }
   ],
   "source": [
    "import lightgbm as lgb\n",
    "from sklearn.metrics import mean_squared_error\n",
    "import time\n",
    "\n",
    "X_train['user_id'] = X_train['user_id'].astype('category')\n",
    "X_train['item_id'] = X_train['item_id'].astype('category')\n",
    "X_test['user_id'] = X_test['user_id'].astype('category')\n",
    "X_test['item_id'] = X_test['item_id'].astype('category')\n",
    "\n",
    "lgb_train = lgb.Dataset(X_train, label=y_train, categorical_feature=['user_id', 'item_id'], weight=[5 if i == 1 else 1 for i in y_train], free_raw_data=False)\n",
    "lgb_test = lgb.Dataset(X_test, label=y_test, categorical_feature=['user_id', 'item_id'], reference=lgb_train, free_raw_data=False)\n",
    "\n",
    "l1s = [0, 0.5, 1.0, 2.0, 5.0]\n",
    "l2s = [0, 0.5, 1.0, 2.0, 5.0]\n",
    "train_times = []\n",
    "rmses = {}\n",
    "\n",
    "for l1 in l1s:\n",
    "    for l2 in l2s:\n",
    "        params = {\n",
    "        'objective': 'binary',       # Suitable for recommendation tasks\n",
    "        'metric': 'rmse',                # Root Mean Squared Error as evaluation metric\n",
    "        'n_estimators': 100,\n",
    "        'learning_rate': 0.1,\n",
    "        'num_leaves': 50,                # Controls complexity\n",
    "        'max_depth': 10,\n",
    "        'lambda_l1': l1,\n",
    "        'lambda_l2': l2,\n",
    "        'verbose': -1\n",
    "        }\n",
    "\n",
    "        #start_train_time = time.time()\n",
    "\n",
    "        model = lgb.train(\n",
    "            params,\n",
    "            lgb_train,\n",
    "            num_boost_round=200,             # Maximum rounds\n",
    "            valid_sets=[lgb_train, lgb_test],\n",
    "            valid_names=['train', 'test']\n",
    "        )\n",
    "\n",
    "        y_pred = model.predict(X_test, num_iteration=model.best_iteration)\n",
    "\n",
    "        #end_train_time = time.time()\n",
    "        #train_time = (end_train_time - start_train_time)\n",
    "\n",
    "        rmse = np.sqrt(mean_squared_error(y_test, y_pred))\n",
    "        print(f\"RMSE@{l1}/{l2}: {rmse}\")\n",
    "        #print(f\"Execution time@{max_depth}: {train_time}\")\n",
    "        print(\"---------------------------------------------\")\n",
    "\n",
    "        #train_times.append(train_time)\n",
    "        rmses[(l1, l2)] = rmse"
   ]
  },
  {
   "cell_type": "markdown",
   "metadata": {},
   "source": [
    "Heatmap"
   ]
  },
  {
   "cell_type": "code",
   "execution_count": 27,
   "metadata": {},
   "outputs": [
    {
     "data": {
      "image/png": "[encoded data removed]",
      "text/plain": [
       "<Figure size 800x600 with 2 Axes>"
      ]
     },
     "metadata": {},
     "output_type": "display_data"
    }
   ],
   "source": [
    "rmse_matrix = np.array([[rmses[(l1, l2)] for l2 in l2s] for l1 in l1s])\n",
    "\n",
    "import seaborn as sns\n",
    "\n",
    "# Plot the heatmap using seaborn\n",
    "plt.figure(figsize=(8, 6))\n",
    "ax = sns.heatmap(rmse_matrix, annot=True, fmt=\".6f\", cmap=\"Blues\", xticklabels=l1s, yticklabels=l2s)\n",
    "\n",
    "# Add labels and title\n",
    "ax.set_xlabel(\"L1 regularization term\")\n",
    "ax.set_ylabel(\"L2 regularization term\")\n",
    "ax.set_title(\"RMSE Heatmap for L1/L2 regularization\")\n",
    "\n",
    "# Show plot\n",
    "plt.show()"
   ]
  },
  {
   "cell_type": "markdown",
   "metadata": {},
   "source": [
    "Investigate model under objective settings"
   ]
  },
  {
   "cell_type": "code",
   "execution_count": 28,
   "metadata": {},
   "outputs": [
    {
     "name": "stderr",
     "output_type": "stream",
     "text": [
      "d:\\anaconda3\\Lib\\site-packages\\lightgbm\\engine.py:204: UserWarning: Found `n_estimators` in params. Will use it instead of argument\n",
      "  _log_warning(f\"Found `{alias}` in params. Will use it instead of argument\")\n"
     ]
    },
    {
     "name": "stdout",
     "output_type": "stream",
     "text": [
      "RMSE@regression: 0.36186120412524836\n",
      "Execution time@regression: 3.236605644226074\n",
      "---------------------------------------------\n"
     ]
    },
    {
     "name": "stderr",
     "output_type": "stream",
     "text": [
      "d:\\anaconda3\\Lib\\site-packages\\lightgbm\\engine.py:204: UserWarning: Found `n_estimators` in params. Will use it instead of argument\n",
      "  _log_warning(f\"Found `{alias}` in params. Will use it instead of argument\")\n"
     ]
    },
    {
     "name": "stdout",
     "output_type": "stream",
     "text": [
      "RMSE@poisson: 0.36558404786494064\n",
      "Execution time@poisson: 3.2423107624053955\n",
      "---------------------------------------------\n"
     ]
    },
    {
     "name": "stderr",
     "output_type": "stream",
     "text": [
      "d:\\anaconda3\\Lib\\site-packages\\lightgbm\\engine.py:204: UserWarning: Found `n_estimators` in params. Will use it instead of argument\n",
      "  _log_warning(f\"Found `{alias}` in params. Will use it instead of argument\")\n"
     ]
    },
    {
     "name": "stdout",
     "output_type": "stream",
     "text": [
      "RMSE@binary: 0.3604685560276964\n",
      "Execution time@binary: 4.606464147567749\n",
      "---------------------------------------------\n"
     ]
    }
   ],
   "source": [
    "import lightgbm as lgb\n",
    "from sklearn.metrics import mean_squared_error\n",
    "import time\n",
    "\n",
    "X_train['user_id'] = X_train['user_id'].astype('category')\n",
    "X_train['item_id'] = X_train['item_id'].astype('category')\n",
    "X_test['user_id'] = X_test['user_id'].astype('category')\n",
    "X_test['item_id'] = X_test['item_id'].astype('category')\n",
    "\n",
    "lgb_train = lgb.Dataset(X_train, label=y_train, categorical_feature=['user_id', 'item_id'], weight=[5 if i == 1 else 1 for i in y_train], free_raw_data=False)\n",
    "lgb_test = lgb.Dataset(X_test, label=y_test, categorical_feature=['user_id', 'item_id'], reference=lgb_train, free_raw_data=False)\n",
    "\n",
    "metrics = ['regression', 'poisson', 'binary']\n",
    "train_times = []\n",
    "rmses = []\n",
    "\n",
    "for metric in metrics:\n",
    "    params = {\n",
    "    'objective': metric,       # Suitable for recommendation tasks\n",
    "    'metric': 'rmse',                # Root Mean Squared Error as evaluation metric\n",
    "    'n_estimators': 100,\n",
    "    'learning_rate': 0.1,\n",
    "    'num_leaves': 50,                # Controls complexity\n",
    "    'max_depth': 10,\n",
    "    'lambda_l1': 1.0,\n",
    "    'lambda_l2': 0.0,\n",
    "    'verbose': -1\n",
    "    }\n",
    "\n",
    "    start_train_time = time.time()\n",
    "\n",
    "    model = lgb.train(\n",
    "        params,\n",
    "        lgb_train,\n",
    "        num_boost_round=200,             # Maximum rounds\n",
    "        valid_sets=[lgb_train, lgb_test],\n",
    "        valid_names=['train', 'test']\n",
    "    )\n",
    "\n",
    "    y_pred = model.predict(X_test, num_iteration=model.best_iteration)\n",
    "\n",
    "    end_train_time = time.time()\n",
    "    train_time = (end_train_time - start_train_time)\n",
    "\n",
    "    rmse = np.sqrt(mean_squared_error(y_test, y_pred))\n",
    "    print(f\"RMSE@{metric}: {rmse}\")\n",
    "    print(f\"Execution time@{metric}: {train_time}\")\n",
    "    print(\"---------------------------------------------\")\n",
    "\n",
    "    train_times.append(train_time)\n",
    "    rmses.append(rmse)"
   ]
  },
  {
   "cell_type": "markdown",
   "metadata": {},
   "source": [
    "Bar plot"
   ]
  },
  {
   "cell_type": "code",
   "execution_count": 29,
   "metadata": {},
   "outputs": [
    {
     "data": {
      "image/png": "[encoded data removed]",
      "text/plain": [
       "<Figure size 1200x600 with 2 Axes>"
      ]
     },
     "metadata": {},
     "output_type": "display_data"
    }
   ],
   "source": [
    "import matplotlib.pyplot as plt\n",
    "import numpy as np\n",
    "\n",
    "# Create the plot\n",
    "fig, ax1 = plt.subplots(figsize=(12, 6))\n",
    "\n",
    "# Bar plot for Execution Time\n",
    "bars1 = ax1.bar(np.arange(len(metrics)) - 0.2, train_times, width=0.4, label=\"Execution Time (s)\", color='skyblue')\n",
    "ax1.set_xlabel(\"Objective Function\")\n",
    "ax1.set_ylabel(\"Execution Time (seconds)\", color='black')\n",
    "ax1.tick_params(axis='y', labelcolor='black')\n",
    "\n",
    "# Bar plot for RMSE on a secondary y-axis with adjusted range\n",
    "ax2 = ax1.twinx()\n",
    "bars2 = ax2.bar(np.arange(len(metrics)) + 0.2, rmses, width=0.4, label=\"RMSE\", color='salmon')\n",
    "ax2.set_ylabel(\"RMSE\", color='black')\n",
    "ax2.tick_params(axis='y', labelcolor='black')\n",
    "\n",
    "# Set x-axis labels to max_depth values\n",
    "plt.xticks(np.arange(len(metrics)), metrics)\n",
    "\n",
    "# Adjust RMSE y-axis range for better visibility\n",
    "ax2.set_ylim(0.35, 0.37)\n",
    "\n",
    "# Title and grid\n",
    "plt.title(\"Execution Time and RMSE for Different Objective Functions\")\n",
    "ax1.grid(True)\n",
    "\n",
    "# Adding a combined legend at the bottom\n",
    "plt.legend([bars1, bars2], [\"Execution Time (s)\", \"RMSE\"], loc='upper center', bbox_to_anchor=(0.5, -0.1), ncol=2)\n",
    "\n",
    "fig.tight_layout()\n",
    "plt.subplots_adjust(bottom=0.2)\n",
    "plt.show()"
   ]
  },
  {
   "cell_type": "markdown",
   "metadata": {},
   "source": [
    "Calculate extra evaluation metrics (Recall@5, Precision@5)"
   ]
  },
  {
   "cell_type": "code",
   "execution_count": 30,
   "metadata": {},
   "outputs": [
    {
     "name": "stderr",
     "output_type": "stream",
     "text": [
      "d:\\anaconda3\\Lib\\site-packages\\sklearn\\metrics\\_classification.py:1469: UndefinedMetricWarning: Recall is ill-defined and being set to 0.0 due to no true samples. Use `zero_division` parameter to control this behavior.\n",
      "  _warn_prf(average, modifier, msg_start, len(result))\n",
      "d:\\anaconda3\\Lib\\site-packages\\sklearn\\metrics\\_classification.py:1469: UndefinedMetricWarning: Recall is ill-defined and being set to 0.0 due to no true samples. Use `zero_division` parameter to control this behavior.\n",
      "  _warn_prf(average, modifier, msg_start, len(result))\n",
      "d:\\anaconda3\\Lib\\site-packages\\sklearn\\metrics\\_classification.py:1469: UndefinedMetricWarning: Recall is ill-defined and being set to 0.0 due to no true samples. Use `zero_division` parameter to control this behavior.\n",
      "  _warn_prf(average, modifier, msg_start, len(result))\n",
      "d:\\anaconda3\\Lib\\site-packages\\sklearn\\metrics\\_classification.py:1469: UndefinedMetricWarning: Recall is ill-defined and being set to 0.0 due to no true samples. Use `zero_division` parameter to control this behavior.\n",
      "  _warn_prf(average, modifier, msg_start, len(result))\n",
      "d:\\anaconda3\\Lib\\site-packages\\sklearn\\metrics\\_classification.py:1469: UndefinedMetricWarning: Recall is ill-defined and being set to 0.0 due to no true samples. Use `zero_division` parameter to control this behavior.\n",
      "  _warn_prf(average, modifier, msg_start, len(result))\n"
     ]
    },
    {
     "name": "stdout",
     "output_type": "stream",
     "text": [
      "Precision@5: 0.9632328585624379\n",
      "Recall@5: 0.22000386441426523\n"
     ]
    }
   ],
   "source": [
    "from sklearn.metrics import precision_score, recall_score\n",
    "\n",
    "X_test['pred_score'] = model.predict(X_test, num_iteration=model.best_iteration)\n",
    "X_test['actual_interaction'] = y_test.values\n",
    "\n",
    "# **Top 5 Precision and Recall Calculation**\n",
    "# Group by user and get top 5 predictions for each user\n",
    "top_5_recs = X_test.sort_values(['user_id', 'pred_score'], ascending=[True, False]) \\\n",
    "                   .groupby('user_id').head(5)\n",
    "\n",
    "# Calculate Precision@5 and Recall@5\n",
    "precision_at_5 = top_5_recs.groupby('user_id').apply(\n",
    "    lambda x: precision_score(x['actual_interaction'], (x['pred_score'] >= np.percentile(x['pred_score'], 80)).astype(int))\n",
    ").mean()\n",
    "\n",
    "recall_at_5 = top_5_recs.groupby('user_id').apply(\n",
    "    lambda x: recall_score(x['actual_interaction'], (x['pred_score'] >= np.percentile(x['pred_score'], 80)).astype(int))\n",
    ").mean()\n",
    "\n",
    "print(f\"Precision@5: {precision_at_5}\")\n",
    "print(f\"Recall@5: {recall_at_5}\")"
   ]
  }
 ],
 "metadata": {
  "kernelspec": {
   "display_name": "base",
   "language": "python",
   "name": "python3"
  },
  "language_info": {
   "codemirror_mode": {
    "name": "ipython",
    "version": 3
   },
   "file_extension": ".py",
   "mimetype": "text/x-python",
   "name": "python",
   "nbconvert_exporter": "python",
   "pygments_lexer": "ipython3",
   "version": "3.11.5"
  }
 },
 "nbformat": 4,
 "nbformat_minor": 2
}
